{
 "cells": [
  {
   "cell_type": "markdown",
   "metadata": {},
   "source": [
    "# Permutation analysis examining 4 regression models for simulated phenotype ~ genotypes (RFE)"
   ]
  },
  {
   "cell_type": "code",
   "execution_count": null,
   "metadata": {},
   "outputs": [],
   "source": [
    "import os,errno\n",
    "import functools\n",
    "import dRFEtools\n",
    "import numpy as np\n",
    "import pandas as pd\n",
    "from time import time\n",
    "from plotnine import *\n",
    "from sklearn.model_selection import KFold\n",
    "from sklearn.feature_selection import RFECV\n",
    "from sklearn.model_selection import train_test_split\n",
    "from sklearn.metrics import r2_score, mean_squared_error\n",
    "from sklearn.metrics import explained_variance_score as evar"
   ]
  },
  {
   "cell_type": "markdown",
   "metadata": {},
   "source": [
    "## Functions"
   ]
  },
  {
   "cell_type": "code",
   "execution_count": null,
   "metadata": {},
   "outputs": [],
   "source": [
    "@functools.lru_cache()\n",
    "def get_y_var():\n",
    "    # Correlated component\n",
    "    Ycorr = pd.read_csv(\"../../_m/genotype_simulation/Y_correlatedBg_genotype_simulation.csv\", index_col=0)\n",
    "    # Genetic component\n",
    "    YgenBg = pd.read_csv(\"../../_m/genotype_simulation/Y_genBg_genotype_simulation.csv\", index_col=0)\n",
    "    YgenFixed = pd.read_csv(\"../../_m/genotype_simulation/Y_genFixed_genotype_simulation.csv\", index_col=0)\n",
    "    # Noise component\n",
    "    YnoiseBg = pd.read_csv(\"../../_m/genotype_simulation/Y_noiseBg_genotype_simulation.csv\", index_col=0)\n",
    "    YnoiseFixed = pd.read_csv(\"../../_m/genotype_simulation/Y_noiseFixed_genotype_simulation.csv\", index_col=0)\n",
    "    # Combine\n",
    "    Y = Ycorr + YgenBg + YgenFixed + YnoiseBg + YnoiseFixed\n",
    "    return Y\n",
    "\n",
    "\n",
    "@functools.lru_cache()\n",
    "def get_X_var():\n",
    "    snp_df = pd.read_csv(\"../../_m/genotype_simulation/Genotypes_genotype_simulation.csv\", \n",
    "                         index_col=0).T\n",
    "    r = pd.get_dummies(snp_df, columns=snp_df.columns, dummy_na=True)\n",
    "    r.columns = r.columns.str.replace('\\.\\d+', '', regex=True)\n",
    "    return r"
   ]
  },
  {
   "cell_type": "code",
   "execution_count": null,
   "metadata": {},
   "outputs": [],
   "source": [
    "def mkdir_p(directory):\n",
    "    try:\n",
    "        os.makedirs(directory)\n",
    "    except OSError as e:\n",
    "        if e.errno != errno.EEXIST:\n",
    "            raise\n",
    "            \n",
    "            \n",
    "def load_data(simu):\n",
    "    X = get_X_var()\n",
    "    Y = get_y_var().iloc[:, simu]\n",
    "    return X,Y\n",
    "\n",
    "\n",
    "def rfecv_run(simu, cv, estimator, outdir, step):\n",
    "    # Instantiate RFECV visualizer with a random forest regression\n",
    "    X, y = load_data(simu)\n",
    "    selector = RFECV(estimator, cv=cv, step=step, n_jobs=-1)\n",
    "    start = time()\n",
    "    selector = selector.fit(X, y)\n",
    "    end = time()\n",
    "    pd.DataFrame({\"Simulation\": simu,\n",
    "                  \"Feature\":X.columns, \n",
    "                  \"Rank\": selector.ranking_, \n",
    "                  \"Predictive\": selector.support_, \n",
    "                  \"CPU Time\": end - start, \n",
    "                  \"n features\": selector.n_features_})\\\n",
    "      .to_csv(\"%s/RFECV_%.2f_predictions.txt\" % (outdir, step), \n",
    "              sep='\\t', mode='a', index=False, \n",
    "              header=True if simu == 0 else False)"
   ]
  },
  {
   "cell_type": "markdown",
   "metadata": {},
   "source": [
    "## Generate 10-fold cross-validation"
   ]
  },
  {
   "cell_type": "code",
   "execution_count": null,
   "metadata": {},
   "outputs": [],
   "source": [
    "cv = KFold(n_splits=10, shuffle=True, random_state=13)"
   ]
  },
  {
   "cell_type": "markdown",
   "metadata": {},
   "source": [
    "### Random forest"
   ]
  },
  {
   "cell_type": "markdown",
   "metadata": {},
   "source": [
    "#### Initialize"
   ]
  },
  {
   "cell_type": "code",
   "execution_count": null,
   "metadata": {},
   "outputs": [],
   "source": [
    "outdir = 'rf/'\n",
    "mkdir_p(outdir)\n",
    "regr = dRFEtools.RandomForestRegressor(n_estimators=100, oob_score=True, \n",
    "                                       n_jobs=-1, random_state=13)"
   ]
  },
  {
   "cell_type": "markdown",
   "metadata": {},
   "source": [
    "#### Run RFECV"
   ]
  },
  {
   "cell_type": "code",
   "execution_count": null,
   "metadata": {},
   "outputs": [],
   "source": [
    "for simu in range(15):\n",
    "    print(simu)\n",
    "    rfecv_run(simu, cv, regr, outdir, 0.1)"
   ]
  },
  {
   "cell_type": "markdown",
   "metadata": {},
   "source": [
    "### Ridge"
   ]
  },
  {
   "cell_type": "markdown",
   "metadata": {},
   "source": [
    "#### Initialize"
   ]
  },
  {
   "cell_type": "code",
   "execution_count": null,
   "metadata": {},
   "outputs": [],
   "source": [
    "outdir = 'ridge/'\n",
    "mkdir_p(outdir)\n",
    "regr = dRFEtools.Ridge(random_state=13)"
   ]
  },
  {
   "cell_type": "markdown",
   "metadata": {},
   "source": [
    "#### Run RFECV"
   ]
  },
  {
   "cell_type": "code",
   "execution_count": null,
   "metadata": {},
   "outputs": [],
   "source": [
    "for simu in range(15):\n",
    "    print(simu)\n",
    "    rfecv_run(simu, cv, regr, outdir, 0.1)"
   ]
  },
  {
   "cell_type": "markdown",
   "metadata": {},
   "source": [
    "### Elastic Net"
   ]
  },
  {
   "cell_type": "markdown",
   "metadata": {},
   "source": [
    "#### Initialize"
   ]
  },
  {
   "cell_type": "code",
   "execution_count": null,
   "metadata": {},
   "outputs": [],
   "source": [
    "outdir = 'enet/'\n",
    "mkdir_p(outdir)\n",
    "regr = dRFEtools.ElasticNet(alpha=0.01, random_state=13)"
   ]
  },
  {
   "cell_type": "markdown",
   "metadata": {},
   "source": [
    "#### Run RFECV"
   ]
  },
  {
   "cell_type": "code",
   "execution_count": null,
   "metadata": {},
   "outputs": [],
   "source": [
    "for simu in range(15):\n",
    "    print(simu)\n",
    "    rfecv_run(simu, cv, regr, outdir, 0.1)"
   ]
  },
  {
   "cell_type": "markdown",
   "metadata": {},
   "source": [
    "### SVR linear kernel"
   ]
  },
  {
   "cell_type": "markdown",
   "metadata": {},
   "source": [
    "#### Initialize"
   ]
  },
  {
   "cell_type": "code",
   "execution_count": null,
   "metadata": {},
   "outputs": [],
   "source": [
    "outdir = 'svr/'\n",
    "mkdir_p(outdir)\n",
    "regr = dRFEtools.LinearSVR(random_state=13, max_iter=10000)"
   ]
  },
  {
   "cell_type": "markdown",
   "metadata": {},
   "source": [
    "#### Run RFECV"
   ]
  },
  {
   "cell_type": "code",
   "execution_count": null,
   "metadata": {},
   "outputs": [],
   "source": [
    "for simu in range(15):\n",
    "    print(simu)\n",
    "    rfecv_run(simu, cv, regr, outdir, 0.1)"
   ]
  },
  {
   "cell_type": "code",
   "execution_count": null,
   "metadata": {},
   "outputs": [],
   "source": []
  }
 ],
 "metadata": {
  "kernelspec": {
   "display_name": "Python 3",
   "language": "python",
   "name": "python3"
  },
  "language_info": {
   "codemirror_mode": {
    "name": "ipython",
    "version": 3
   },
   "file_extension": ".py",
   "mimetype": "text/x-python",
   "name": "python",
   "nbconvert_exporter": "python",
   "pygments_lexer": "ipython3",
   "version": "3.9.1"
  }
 },
 "nbformat": 4,
 "nbformat_minor": 4
}
