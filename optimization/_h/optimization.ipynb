{
 "cells": [
  {
   "cell_type": "markdown",
   "metadata": {},
   "source": [
    "# Example of optimizing lowess fit and max and redundant set selection"
   ]
  },
  {
   "cell_type": "code",
   "execution_count": null,
   "metadata": {},
   "outputs": [],
   "source": [
    "import os,errno\n",
    "import dRFEtools\n",
    "import numpy as np\n",
    "import pandas as pd\n",
    "from sklearn.model_selection import KFold\n",
    "from sklearn.datasets import make_regression\n",
    "from sklearn.datasets import make_classification\n",
    "from sklearn.model_selection import StratifiedKFold\n",
    "from sklearn.model_selection import train_test_split"
   ]
  },
  {
   "cell_type": "code",
   "execution_count": null,
   "metadata": {},
   "outputs": [],
   "source": [
    "def mkdir_p(directory):\n",
    "    try:\n",
    "        os.makedirs(directory)\n",
    "    except OSError as e:\n",
    "        if e.errno != errno.EEXIST:\n",
    "            raise"
   ]
  },
  {
   "cell_type": "markdown",
   "metadata": {},
   "source": [
    "## Optimize classification"
   ]
  },
  {
   "cell_type": "code",
   "execution_count": null,
   "metadata": {},
   "outputs": [],
   "source": [
    "outdir = 'classification/'\n",
    "mkdir_p(outdir)"
   ]
  },
  {
   "cell_type": "code",
   "execution_count": null,
   "metadata": {},
   "outputs": [],
   "source": [
    "# Create a dataset with only 10 informative features\n",
    "X, y = make_classification(\n",
    "    n_samples=500, n_features=20000, n_informative=100, n_redundant=300,\n",
    "    n_repeated=0, n_classes=2, n_clusters_per_class=1, random_state=13\n",
    ")\n",
    "\n",
    "cv = StratifiedKFold(n_splits=5, shuffle=True, random_state=13)\n",
    "#cla = dRFEtools.LogisticRegression(max_iter=1000, n_jobs=-1)\n",
    "cla = dRFEtools.RandomForestClassifier(n_estimators=100, n_jobs=-1, \n",
    "                                      oob_score=True, random_state=13)"
   ]
  },
  {
   "cell_type": "code",
   "execution_count": null,
   "metadata": {},
   "outputs": [],
   "source": [
    "fold = 1\n",
    "for train_index, test_index in cv.split(X, y):\n",
    "    X_train, X_test = X[train_index], X[test_index]\n",
    "    y_train, y_test = y[train_index], y[test_index]\n",
    "    fold += 1\n",
    "fold -= 1\n",
    "\n",
    "features = [\"feature_%d\" % x for x in range(X_train.shape[1])]\n",
    "d, pfirst = dRFEtools.rf_rfe(cla, X_train, y_train, np.array(features), \n",
    "                            fold, outdir, elimination_rate=0.1, RANK=False)"
   ]
  },
  {
   "cell_type": "markdown",
   "metadata": {},
   "source": [
    "### Optimize lowess fit: fraction of data to use when estimating y-values"
   ]
  },
  {
   "cell_type": "code",
   "execution_count": null,
   "metadata": {},
   "outputs": [],
   "source": [
    "## Single Fold examination\n",
    "for frac in [0.1, 0.15, 0.2, 0.25, 0.3, 0.35, 0.4]:\n",
    "    dRFEtools.optimize_lowess_plot(d, fold, outdir, frac=frac, step_size=0.05, \n",
    "                                   classify=True, save_plot=True)"
   ]
  },
  {
   "cell_type": "markdown",
   "metadata": {},
   "source": [
    "### Optimize redundant selection: examine rate change"
   ]
  },
  {
   "cell_type": "code",
   "execution_count": null,
   "metadata": {},
   "outputs": [],
   "source": [
    "for step_size in [0.01, 0.02, 0.03, 0.04, 0.05, 0.1]:\n",
    "    dRFEtools.optimize_lowess_plot(d, fold, outdir, frac=0.3, step_size=step_size, \n",
    "                                   classify=True, save_plot=True)"
   ]
  },
  {
   "cell_type": "code",
   "execution_count": null,
   "metadata": {},
   "outputs": [],
   "source": [
    "## Highest value (without smoothing)\n",
    "max(d, key=lambda x: d[x][1])"
   ]
  },
  {
   "cell_type": "code",
   "execution_count": null,
   "metadata": {},
   "outputs": [],
   "source": [
    "print(dRFEtools.extract_max_lowess(d, frac=0.30))\n",
    "## Using a conservative step size\n",
    "dRFEtools.extract_redundant_lowess(d, frac=0.30, step_size=0.02)"
   ]
  },
  {
   "cell_type": "markdown",
   "metadata": {},
   "source": [
    "## Optimize regression"
   ]
  },
  {
   "cell_type": "code",
   "execution_count": null,
   "metadata": {},
   "outputs": [],
   "source": [
    "outdir = 'regression/'\n",
    "mkdir_p(outdir)"
   ]
  },
  {
   "cell_type": "code",
   "execution_count": null,
   "metadata": {},
   "outputs": [],
   "source": [
    "# Create a dataset with only 10 informative features\n",
    "X, y = make_regression(\n",
    "    n_samples=500, n_features=20000, n_informative=200, bias=0.2,\n",
    "    n_targets=1, noise=10, random_state=13\n",
    ")\n",
    "cv = KFold(n_splits=5, shuffle=True, random_state=13)\n",
    "regr = dRFEtools.RandomForestRegressor(n_estimators=100, oob_score=True, \n",
    "                                       n_jobs=-1, random_state=13)"
   ]
  },
  {
   "cell_type": "code",
   "execution_count": null,
   "metadata": {},
   "outputs": [],
   "source": [
    "fold = 1\n",
    "for train_index, test_index in cv.split(X, y):\n",
    "    X_train, X_test = X[train_index], X[test_index]\n",
    "    y_train, y_test = y[train_index], y[test_index]\n",
    "    fold += 1\n",
    "fold -= 1\n",
    "\n",
    "features = [\"feature_%d\" % x for x in range(X_train.shape[1])]\n",
    "d, pfirst = dRFEtools.rf_rfe(regr, X_train, y_train, np.array(features), \n",
    "                            fold, outdir, elimination_rate=0.1, RANK=False)"
   ]
  },
  {
   "cell_type": "markdown",
   "metadata": {},
   "source": [
    "### Optimize lowess fit: fraction of data to use when estimating y-values"
   ]
  },
  {
   "cell_type": "code",
   "execution_count": null,
   "metadata": {},
   "outputs": [],
   "source": [
    "## Single Fold examination\n",
    "for frac in [0.1, 0.15, 0.2, 0.25, 0.3, 0.35, 0.4]:\n",
    "    dRFEtools.optimize_lowess_plot(d, fold, outdir, frac=frac, step_size=0.05, \n",
    "                                   classify=False, save_plot=True)"
   ]
  },
  {
   "cell_type": "markdown",
   "metadata": {},
   "source": [
    "### Optimize redundant selection: examine rate change"
   ]
  },
  {
   "cell_type": "code",
   "execution_count": null,
   "metadata": {},
   "outputs": [],
   "source": [
    "for step_size in [0.01, 0.02, 0.03, 0.04, 0.05, 0.1]:\n",
    "    dRFEtools.optimize_lowess_plot(d, fold, outdir, frac=0.25, step_size=step_size, \n",
    "                                   classify=False, save_plot=True)"
   ]
  },
  {
   "cell_type": "code",
   "execution_count": null,
   "metadata": {},
   "outputs": [],
   "source": [
    "## Highest values without smoothing\n",
    "max(d, key=lambda x: d[x][1])"
   ]
  },
  {
   "cell_type": "code",
   "execution_count": null,
   "metadata": {},
   "outputs": [],
   "source": [
    "print(dRFEtools.extract_max_lowess(d, frac=0.25))\n",
    "dRFEtools.extract_redundant_lowess(d, frac=0.25, step_size=0.02)"
   ]
  },
  {
   "cell_type": "markdown",
   "metadata": {},
   "source": [
    "## Optimize classification: multi-class"
   ]
  },
  {
   "cell_type": "code",
   "execution_count": null,
   "metadata": {},
   "outputs": [],
   "source": [
    "outdir = 'multiclass/'\n",
    "mkdir_p(outdir)"
   ]
  },
  {
   "cell_type": "code",
   "execution_count": null,
   "metadata": {},
   "outputs": [],
   "source": [
    "# Create a dataset with only 10 informative features\n",
    "X, y = make_classification(\n",
    "    n_samples=500, n_features=20000, n_informative=100, n_redundant=300,\n",
    "    n_repeated=0, n_classes=4, n_clusters_per_class=1, random_state=13\n",
    ")\n",
    "\n",
    "cv = StratifiedKFold(n_splits=5, shuffle=True, random_state=13)\n",
    "cla = dRFEtools.RandomForestClassifier(n_estimators=100, n_jobs=-1, \n",
    "                                      oob_score=True, random_state=13)"
   ]
  },
  {
   "cell_type": "code",
   "execution_count": null,
   "metadata": {},
   "outputs": [],
   "source": [
    "fold = 1\n",
    "for train_index, test_index in cv.split(X, y):\n",
    "    X_train, X_test = X[train_index], X[test_index]\n",
    "    y_train, y_test = y[train_index], y[test_index]\n",
    "    fold += 1\n",
    "fold -= 1\n",
    "\n",
    "features = [\"feature_%d\" % x for x in range(X_train.shape[1])]\n",
    "d, pfirst = dRFEtools.rf_rfe(cla, X_train, y_train, np.array(features), \n",
    "                            fold, outdir, elimination_rate=0.1, RANK=False)"
   ]
  },
  {
   "cell_type": "markdown",
   "metadata": {},
   "source": [
    "### Optimize lowess fit: fraction of data to use when estimating y-values"
   ]
  },
  {
   "cell_type": "code",
   "execution_count": null,
   "metadata": {},
   "outputs": [],
   "source": [
    "## Single Fold examination\n",
    "for frac in [0.1, 0.15, 0.2, 0.25, 0.3, 0.35, 0.4]:\n",
    "    dRFEtools.optimize_lowess_plot(d, fold, outdir, frac=frac, step_size=0.05, \n",
    "                                   classify=True, multi=True, save_plot=True)"
   ]
  },
  {
   "cell_type": "markdown",
   "metadata": {},
   "source": [
    "### Optimize redundant selection: examine rate change"
   ]
  },
  {
   "cell_type": "code",
   "execution_count": null,
   "metadata": {},
   "outputs": [],
   "source": [
    "for step_size in [0.01, 0.02, 0.03, 0.04, 0.05, 0.1]:\n",
    "    dRFEtools.optimize_lowess_plot(d, fold, outdir, frac=0.25, step_size=step_size, \n",
    "                                   classify=True, multi=True, save_plot=True)"
   ]
  },
  {
   "cell_type": "code",
   "execution_count": null,
   "metadata": {},
   "outputs": [],
   "source": [
    "## Highest value (without smoothing)\n",
    "max(d, key=lambda x: d[x][1])"
   ]
  },
  {
   "cell_type": "code",
   "execution_count": null,
   "metadata": {},
   "outputs": [],
   "source": [
    "print(dRFEtools.extract_max_lowess(d, frac=0.25))\n",
    "dRFEtools.extract_redundant_lowess(d, frac=0.25, step_size=0.015)"
   ]
  },
  {
   "cell_type": "code",
   "execution_count": null,
   "metadata": {},
   "outputs": [],
   "source": []
  }
 ],
 "metadata": {
  "kernelspec": {
   "display_name": "Python 3 (ipykernel)",
   "language": "python",
   "name": "python3"
  },
  "language_info": {
   "codemirror_mode": {
    "name": "ipython",
    "version": 3
   },
   "file_extension": ".py",
   "mimetype": "text/x-python",
   "name": "python",
   "nbconvert_exporter": "python",
   "pygments_lexer": "ipython3",
   "version": "3.9.7"
  }
 },
 "nbformat": 4,
 "nbformat_minor": 4
}
